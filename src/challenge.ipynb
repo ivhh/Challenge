{
 "cells": [
  {
   "cell_type": "markdown",
   "metadata": {
    "application/vnd.databricks.v1+cell": {
     "cellMetadata": {},
     "inputWidgets": {},
     "nuid": "9706d80d-3c27-4da0-b90f-ceada37c05a0",
     "showTitle": false,
     "title": ""
    }
   },
   "source": [
    "# LATAM - Challenge Data Engineer\n",
    "\n",
    "*Autor: Iván Daniel Huerta Herrera*\n",
    "\n",
    "*Versión: 1.0.1*\n",
    "\n",
    "### Contexto\n",
    "\n",
    "Se tiene la información de un conjunto de Tweets (de la red social Twitter) en un archivo de texto plano donde cada línea corresponde a un objeto JSON.\n",
    "\n",
    "Se nos pide realizar una serie de tareas que serán descritas a continuación.\n",
    "\n",
    "#### Problema 1\n",
    "\n",
    "Encontrar las top 10 fechas donde hay más tweets. Mencionar el usuario (username) que más publicaciones tiene por cada uno de esos días.\n",
    "\n",
    "#### Problema 2\n",
    "\n",
    "Listar los top 10 emojis más usados con su respectivo conteo.\n",
    "\n",
    "#### Problema 3\n",
    "\n",
    "Encontrar el top 10 histórico de usuarios (username) más influyentes en función del conteo de las menciones (@) que registra cada uno de ellos\n",
    "\n",
    "### Restricciones\n",
    "\n",
    "Cada problema debe implementar las functiones contenidas en los archivos `q<X>_memory.py` y `q<X>_time.py`, donde `<X>` corresponde al número de pregunta. Estas funciones deben optimizar el uso de memoria o el tiempo de ejecución respectivamente."
   ]
  },
  {
   "cell_type": "markdown",
   "metadata": {
    "application/vnd.databricks.v1+cell": {
     "cellMetadata": {},
     "inputWidgets": {},
     "nuid": "02d2631e-4e40-4d1d-b57e-60992bb52ed5",
     "showTitle": false,
     "title": ""
    }
   },
   "source": [
    "## Consideraciones en la solución\n",
    "\n",
    "Para la optimización de cada uno de los parámetros solicitados se considerará:\n",
    "\n",
    " - *Memoria*: El documento se leera en de línea en línea y no completo, y la información agregada se hará de forma directa.\n",
    " \n",
    " - *Tiempo*: Se utilizará como estrategia usar *MapReduce* con computación distribuida. De manera que las agregaciones se puedan realizar en paralelo. "
   ]
  },
  {
   "cell_type": "markdown",
   "metadata": {},
   "source": [
    "**Todo lo ejecutado en este desafío se realizó localmente, se podría con modificaciones menores correr en Databricks**"
   ]
  },
  {
   "cell_type": "markdown",
   "metadata": {
    "application/vnd.databricks.v1+cell": {
     "cellMetadata": {},
     "inputWidgets": {},
     "nuid": "facc73ad-5bb8-49b5-b91b-6d00cf8495a5",
     "showTitle": false,
     "title": ""
    }
   },
   "source": [
    "### Inicialización de recursos importantes"
   ]
  },
  {
   "cell_type": "code",
   "execution_count": 1,
   "metadata": {
    "application/vnd.databricks.v1+cell": {
     "cellMetadata": {
      "byteLimit": 2048000,
      "rowLimit": 10000
     },
     "inputWidgets": {},
     "nuid": "1c74aaba-be83-4f9a-9505-043133ba09a5",
     "showTitle": false,
     "title": ""
    }
   },
   "outputs": [],
   "source": [
    "# file_path = \"/Volumes/test/default/data/farmers-protest-tweets-2021-2-4.json\"\n",
    "\n",
    "file_path = \"farmers-protest-tweets-2021-2-4.json\"\n",
    "\n",
    "mem_usage = {}\n",
    "time_usage = {}"
   ]
  },
  {
   "cell_type": "markdown",
   "metadata": {},
   "source": [
    "Se crea una función que utiliza los decoradores para la medición de la memoría y el tiempo para ejecutar la función objetivo"
   ]
  },
  {
   "cell_type": "code",
   "execution_count": 2,
   "metadata": {},
   "outputs": [],
   "source": [
    "from utils.profilers import mem_profiler2, time_profiler\n",
    "\n",
    "\n",
    "def run_function(func, tag, file):\n",
    "    @time_profiler(time_map=time_usage, tag=tag)\n",
    "    @mem_profiler2(mem_map=mem_usage, tag=tag)\n",
    "    def wrapper(file):\n",
    "        if file is None:\n",
    "            return func()\n",
    "        else:\n",
    "            return func(file)\n",
    "\n",
    "    return wrapper(file)"
   ]
  },
  {
   "cell_type": "markdown",
   "metadata": {
    "application/vnd.databricks.v1+cell": {
     "cellMetadata": {},
     "inputWidgets": {},
     "nuid": "3b55cb5d-08e5-4040-a83c-187996d6a8ca",
     "showTitle": false,
     "title": ""
    }
   },
   "source": [
    "Antes de ver si se debe hacer o no limpieza de datos se verificará que no existan repetidos, el resto de la información se verificará con los schemas y los parsings que se hacen en los scripts"
   ]
  },
  {
   "cell_type": "code",
   "execution_count": 3,
   "metadata": {
    "application/vnd.databricks.v1+cell": {
     "cellMetadata": {
      "byteLimit": 2048000,
      "rowLimit": 10000
     },
     "inputWidgets": {},
     "nuid": "7501f82b-911b-49c6-a02c-51aea7770983",
     "showTitle": false,
     "title": ""
    }
   },
   "outputs": [
    {
     "name": "stderr",
     "output_type": "stream",
     "text": [
      "your 131072x1 screen size is bogus. expect trouble\n",
      "25/06/05 20:32:05 WARN Utils: Your hostname, ihuerta resolves to a loopback address: 127.0.1.1; using 10.255.255.254 instead (on interface lo)\n",
      "25/06/05 20:32:05 WARN Utils: Set SPARK_LOCAL_IP if you need to bind to another address\n",
      "Setting default log level to \"WARN\".\n",
      "To adjust logging level use sc.setLogLevel(newLevel). For SparkR, use setLogLevel(newLevel).\n",
      "25/06/05 20:32:08 WARN NativeCodeLoader: Unable to load native-hadoop library for your platform... using builtin-java classes where applicable\n",
      "                                                                                \r"
     ]
    },
    {
     "name": "stdout",
     "output_type": "stream",
     "text": [
      "+-------------------+-----+\n",
      "|                 id|count|\n",
      "+-------------------+-----+\n",
      "|1364486773540331522|    1|\n",
      "+-------------------+-----+\n",
      "\n"
     ]
    }
   ],
   "source": [
    "from utils.pyspark_mng import PySparkManager\n",
    "from utils.pyspark_schema import tweet_schema\n",
    "\n",
    "\n",
    "def init():\n",
    "    with PySparkManager() as spark:\n",
    "        tweet_df = spark.read.json(file_path, schema=tweet_schema)\n",
    "        rows = (\n",
    "            tweet_df.groupBy(\"id\")\n",
    "            .count()\n",
    "            .orderBy(\"count\", ascending=False)\n",
    "            .limit(1)\n",
    "            .show()\n",
    "        )\n",
    "        return spark\n",
    "\n",
    "\n",
    "spark = run_function(init, \"init\", None)"
   ]
  },
  {
   "cell_type": "markdown",
   "metadata": {
    "application/vnd.databricks.v1+cell": {
     "cellMetadata": {},
     "inputWidgets": {},
     "nuid": "ce9adf3f-a7ae-44f2-9c65-10c6cb77fa32",
     "showTitle": false,
     "title": ""
    }
   },
   "source": [
    "#### Problema 1"
   ]
  },
  {
   "cell_type": "markdown",
   "metadata": {
    "application/vnd.databricks.v1+cell": {
     "cellMetadata": {},
     "inputWidgets": {},
     "nuid": "6f6dd977-fc22-4e0b-bf9e-16e8182b25c7",
     "showTitle": false,
     "title": ""
    }
   },
   "source": [
    "##### Resolución optimizando la memoria RAM"
   ]
  },
  {
   "cell_type": "code",
   "execution_count": null,
   "metadata": {
    "application/vnd.databricks.v1+cell": {
     "cellMetadata": {
      "byteLimit": 2048000,
      "rowLimit": 10000
     },
     "inputWidgets": {},
     "nuid": "da969f90-22d9-470a-8660-e897cc26e068",
     "showTitle": false,
     "title": ""
    }
   },
   "outputs": [
    {
     "name": "stdout",
     "output_type": "stream",
     "text": [
      "[(datetime.date(2021, 2, 19), 'Preetm91'), (datetime.date(2021, 2, 18), 'neetuanjle_nitu'), (datetime.date(2021, 2, 17), 'RaaJVinderkaur'), (datetime.date(2021, 2, 13), 'MaanDee08215437'), (datetime.date(2021, 2, 12), 'RanbirS00614606'), (datetime.date(2021, 2, 21), 'Surrypuria'), (datetime.date(2021, 2, 18), 'rebelpacifist'), (datetime.date(2021, 2, 19), 'KaurDosanjh1979'), (datetime.date(2021, 2, 23), 'Surrypuria'), (datetime.date(2021, 2, 15), 'jot__b')]\n"
     ]
    },
    {
     "name": "stderr",
     "output_type": "stream",
     "text": [
      "25/06/05 20:32:21 WARN GarbageCollectionMetrics: To enable non-built-in garbage collector(s) List(G1 Concurrent GC), users should configure it(them) to spark.eventLog.gcMetrics.youngGenerationGarbageCollectors or spark.eventLog.gcMetrics.oldGenerationGarbageCollectors\n"
     ]
    }
   ],
   "source": [
    "from q1_memory import q1_memory\n",
    "\n",
    "run_function(lambda x: print(q1_memory(x)), \"q1_memory\", file_path)"
   ]
  },
  {
   "cell_type": "markdown",
   "metadata": {
    "application/vnd.databricks.v1+cell": {
     "cellMetadata": {},
     "inputWidgets": {},
     "nuid": "b7769cea-6bd1-4bd9-ac8f-6b60c15e35ef",
     "showTitle": false,
     "title": ""
    }
   },
   "source": [
    "##### Resolución optimizando el tiempo"
   ]
  },
  {
   "cell_type": "code",
   "execution_count": 5,
   "metadata": {
    "application/vnd.databricks.v1+cell": {
     "cellMetadata": {
      "byteLimit": 2048000,
      "rowLimit": 10000
     },
     "inputWidgets": {},
     "nuid": "71c7524d-4241-4f18-a6c4-303b45ca5a0f",
     "showTitle": false,
     "title": ""
    }
   },
   "outputs": [
    {
     "name": "stderr",
     "output_type": "stream",
     "text": [
      "                                                                                \r"
     ]
    },
    {
     "name": "stdout",
     "output_type": "stream",
     "text": [
      "[(datetime.date(2021, 2, 19), 'Preetm91'), (datetime.date(2021, 2, 18), 'neetuanjle_nitu'), (datetime.date(2021, 2, 17), 'RaaJVinderkaur'), (datetime.date(2021, 2, 13), 'MaanDee08215437'), (datetime.date(2021, 2, 12), 'RanbirS00614606'), (datetime.date(2021, 2, 21), 'Surrypuria'), (datetime.date(2021, 2, 18), 'rebelpacifist'), (datetime.date(2021, 2, 19), 'KaurDosanjh1979'), (datetime.date(2021, 2, 23), 'Surrypuria'), (datetime.date(2021, 2, 15), 'jot__b')]\n"
     ]
    }
   ],
   "source": [
    "from q1_time import q1_time\n",
    "\n",
    "run_function(lambda x: print(q1_time(x)), \"q1_time\", file_path)"
   ]
  },
  {
   "cell_type": "markdown",
   "metadata": {
    "application/vnd.databricks.v1+cell": {
     "cellMetadata": {},
     "inputWidgets": {},
     "nuid": "5b8b2064-709d-4dff-8925-dba9ef286c9d",
     "showTitle": false,
     "title": ""
    }
   },
   "source": [
    "#### Problema 2"
   ]
  },
  {
   "cell_type": "markdown",
   "metadata": {
    "application/vnd.databricks.v1+cell": {
     "cellMetadata": {},
     "inputWidgets": {},
     "nuid": "a2ed4501-2ed3-4348-96af-5757bd0681a0",
     "showTitle": false,
     "title": ""
    }
   },
   "source": [
    "##### Resolución optimizando la memoria RAM"
   ]
  },
  {
   "cell_type": "code",
   "execution_count": 6,
   "metadata": {
    "application/vnd.databricks.v1+cell": {
     "cellMetadata": {
      "byteLimit": 2048000,
      "rowLimit": 10000
     },
     "inputWidgets": {},
     "nuid": "831d64c4-271f-466b-ad0e-d7de763b337b",
     "showTitle": false,
     "title": ""
    }
   },
   "outputs": [
    {
     "name": "stdout",
     "output_type": "stream",
     "text": [
      "[('🙏', 7286), ('😂', 3072), ('🚜', 2972), ('✊', 2411), ('🌾', 2363), ('🏻', 2080), ('❤', 1779), ('🤣', 1668), ('🏽', 1218), ('👇', 1108)]\n"
     ]
    }
   ],
   "source": [
    "from q2_memory import q2_memory\n",
    "\n",
    "run_function(lambda x: print(q2_memory(x)), \"q2_memory\", file_path)"
   ]
  },
  {
   "cell_type": "markdown",
   "metadata": {
    "application/vnd.databricks.v1+cell": {
     "cellMetadata": {},
     "inputWidgets": {},
     "nuid": "386159f5-1574-4cc2-9bb7-30cf1f833b95",
     "showTitle": false,
     "title": ""
    }
   },
   "source": [
    "##### Resolución optimizando el tiempo"
   ]
  },
  {
   "cell_type": "code",
   "execution_count": 7,
   "metadata": {
    "application/vnd.databricks.v1+cell": {
     "cellMetadata": {
      "byteLimit": 2048000,
      "rowLimit": 10000
     },
     "inputWidgets": {},
     "nuid": "b5f2404d-f3f8-4990-8248-0855004bbee5",
     "showTitle": false,
     "title": ""
    }
   },
   "outputs": [
    {
     "name": "stderr",
     "output_type": "stream",
     "text": [
      "[Stage 6:>                                                        (0 + 16) / 16]\r"
     ]
    },
    {
     "name": "stdout",
     "output_type": "stream",
     "text": [
      "[('🙏', 7286), ('😂', 3072), ('🚜', 2972), ('✊', 2411), ('🌾', 2363), ('🏻', 2080), ('❤', 1779), ('🤣', 1668), ('🏽', 1218), ('👇', 1108)]\n"
     ]
    },
    {
     "name": "stderr",
     "output_type": "stream",
     "text": [
      "                                                                                \r"
     ]
    }
   ],
   "source": [
    "from q2_time import q2_time\n",
    "\n",
    "run_function(lambda x: print(q2_time(x)), \"q2_time\", file_path)"
   ]
  },
  {
   "cell_type": "markdown",
   "metadata": {
    "application/vnd.databricks.v1+cell": {
     "cellMetadata": {},
     "inputWidgets": {},
     "nuid": "b116956f-a2fc-4ccb-9e77-17f182a6ca3d",
     "showTitle": false,
     "title": ""
    }
   },
   "source": [
    "En este problema se tomó en consideración que los emoji se contabilizan sólo en los mensajes del Tweet, y los Tweet relacionados a este no se tomaron en cuenta para evitar duplicar la información en caso de haber referencias múltiples.\n",
    "\n",
    "Para los Emojis se uso la librería `emoji` indirectamente. Se copió uno de los archivos en utils y se agregó una función para ver si hay Emojis."
   ]
  },
  {
   "cell_type": "markdown",
   "metadata": {
    "application/vnd.databricks.v1+cell": {
     "cellMetadata": {},
     "inputWidgets": {},
     "nuid": "59d4c0ae-cb7d-4c6d-829c-d8549889624f",
     "showTitle": false,
     "title": ""
    }
   },
   "source": [
    "#### Problema 3"
   ]
  },
  {
   "cell_type": "markdown",
   "metadata": {
    "application/vnd.databricks.v1+cell": {
     "cellMetadata": {},
     "inputWidgets": {},
     "nuid": "3d286b2b-0224-4211-9cbb-ba10253b3ff3",
     "showTitle": false,
     "title": ""
    }
   },
   "source": [
    "##### Resolución optimizando la memoria RAM"
   ]
  },
  {
   "cell_type": "code",
   "execution_count": 8,
   "metadata": {
    "application/vnd.databricks.v1+cell": {
     "cellMetadata": {
      "byteLimit": 2048000,
      "rowLimit": 10000
     },
     "inputWidgets": {},
     "nuid": "7aa5d8c8-d73f-45b6-be8c-cf226aa74ad0",
     "showTitle": false,
     "title": ""
    }
   },
   "outputs": [
    {
     "name": "stdout",
     "output_type": "stream",
     "text": [
      "[('narendramodi', 2265), ('Kisanektamorcha', 1840), ('RakeshTikaitBKU', 1644), ('PMOIndia', 1427), ('RahulGandhi', 1146), ('GretaThunberg', 1048), ('RaviSinghKA', 1019), ('rihanna', 986), ('UNHumanRights', 962), ('meenaharris', 926)]\n"
     ]
    }
   ],
   "source": [
    "from q3_memory import q3_memory\n",
    "\n",
    "run_function(lambda x: print(q3_memory(x)), \"q3_memory\", file_path)"
   ]
  },
  {
   "cell_type": "markdown",
   "metadata": {
    "application/vnd.databricks.v1+cell": {
     "cellMetadata": {},
     "inputWidgets": {},
     "nuid": "72bc560a-418a-4580-83e5-a4a480049210",
     "showTitle": false,
     "title": ""
    }
   },
   "source": [
    "##### Resolución optimizando el tiempo"
   ]
  },
  {
   "cell_type": "code",
   "execution_count": 9,
   "metadata": {
    "application/vnd.databricks.v1+cell": {
     "cellMetadata": {
      "byteLimit": 2048000,
      "rowLimit": 10000
     },
     "inputWidgets": {},
     "nuid": "04c57d3f-4b9a-4c95-88c7-e78d9b94a262",
     "showTitle": false,
     "title": ""
    }
   },
   "outputs": [
    {
     "name": "stdout",
     "output_type": "stream",
     "text": [
      "[('narendramodi', 2265), ('Kisanektamorcha', 1840), ('RakeshTikaitBKU', 1644), ('PMOIndia', 1427), ('RahulGandhi', 1146), ('GretaThunberg', 1048), ('RaviSinghKA', 1019), ('rihanna', 986), ('UNHumanRights', 962), ('meenaharris', 926)]\n"
     ]
    }
   ],
   "source": [
    "from q3_time import q3_time\n",
    "\n",
    "run_function(lambda x: print(q3_time(x)), \"q3_time\", file_path)"
   ]
  },
  {
   "cell_type": "markdown",
   "metadata": {
    "application/vnd.databricks.v1+cell": {
     "cellMetadata": {},
     "inputWidgets": {},
     "nuid": "c9defc03-3246-477f-92d6-f1adf99a6ef5",
     "showTitle": false,
     "title": ""
    }
   },
   "source": [
    "Para el caso de las menciones, se aprovechó la estructura de datos que Twitter (X) proporciona. De esta manera no se buscó hacer operaciones de búsqueda en el String o con expresiones regulares"
   ]
  },
  {
   "cell_type": "markdown",
   "metadata": {
    "application/vnd.databricks.v1+cell": {
     "cellMetadata": {},
     "inputWidgets": {},
     "nuid": "12571d45-a734-47b8-9ae5-6cbdd6f8f420",
     "showTitle": false,
     "title": ""
    }
   },
   "source": [
    "#### Análisis de memoria"
   ]
  },
  {
   "cell_type": "markdown",
   "metadata": {},
   "source": [
    "En el analisis de la memoria se utiliza Memray para revisar la memoria que está el proceso temporalmente. Para simplificar el caso de analisis se realizará sólo con la memoria física (RSS), aunque para un analisis más completo se debería realizar con más tipos."
   ]
  },
  {
   "cell_type": "code",
   "execution_count": 10,
   "metadata": {
    "application/vnd.databricks.v1+cell": {
     "cellMetadata": {
      "byteLimit": 2048000,
      "rowLimit": 10000
     },
     "inputWidgets": {},
     "nuid": "fb553410-c955-4bb1-b4eb-ecd5a45045b2",
     "showTitle": false,
     "title": ""
    }
   },
   "outputs": [],
   "source": [
    "def plot_mem(q, ax):\n",
    "    df1 = spark.createDataFrame(\n",
    "        mem_usage[f\"q{q}_memory\"], [\"timestamp\", \"physical\", \"heap\"]\n",
    "    )\n",
    "    df2 = spark.createDataFrame(\n",
    "        mem_usage[f\"q{q}_time\"], [\"timestamp\", \"physical\", \"heap\"]\n",
    "    )\n",
    "\n",
    "    # Suppose df1 is a Spark DataFrame with columns: \"timestamp\", \"physical\", \"heap\"\n",
    "    data1 = df1.select(\"timestamp\", \"physical\", \"heap\").collect()\n",
    "    data2 = df2.select(\"timestamp\", \"physical\", \"heap\").collect()\n",
    "\n",
    "    # Extract columns as Python lists\n",
    "    timestamps1 = [row[\"timestamp\"] - data1[0][\"timestamp\"] for row in data1]\n",
    "    physical1 = [row[\"physical\"] for row in data1]\n",
    "\n",
    "    timestamps2 = [row[\"timestamp\"] - data2[0][\"timestamp\"] for row in data2]\n",
    "    physical2 = [row[\"physical\"] for row in data2]\n",
    "\n",
    "    ax.plot(timestamps1, physical1, label=\"Physical Memory (Mem Opt)\", color=\"blue\")\n",
    "    ax.plot(timestamps2, physical2, label=\"Physical Memory (Time Opt)\", color=\"green\")\n",
    "    ax.set_title(f\"Memory Usage Over Time for Q{q}\")\n",
    "    ax.set_xlabel(\"Timestamp [ms]\")\n",
    "    ax.set_ylabel(\"Memory Usage (MiB)\")\n",
    "    ax.grid()\n",
    "    ax.legend()"
   ]
  },
  {
   "cell_type": "code",
   "execution_count": 11,
   "metadata": {},
   "outputs": [
    {
     "name": "stderr",
     "output_type": "stream",
     "text": [
      "                                                                                \r"
     ]
    },
    {
     "data": {
      "image/png": "[encoded data removed]",
      "text/plain": [
       "<Figure size 1500x500 with 3 Axes>"
      ]
     },
     "metadata": {},
     "output_type": "display_data"
    }
   ],
   "source": [
    "import matplotlib.pyplot as plt\n",
    "\n",
    "fig, axs = plt.subplots(1, 3, figsize=(15, 5), sharey=True)\n",
    "plot_mem(1, axs[0])\n",
    "plot_mem(2, axs[1])\n",
    "plot_mem(3, axs[2])"
   ]
  },
  {
   "cell_type": "code",
   "execution_count": 12,
   "metadata": {},
   "outputs": [
    {
     "data": {
      "text/plain": [
       "[1749169924279, 125145088, 0]"
      ]
     },
     "execution_count": 12,
     "metadata": {},
     "output_type": "execute_result"
    }
   ],
   "source": [
    "mem_usage[\"init\"][0]  # timestamp, physical, heap"
   ]
  },
  {
   "cell_type": "markdown",
   "metadata": {},
   "source": [
    "Para analizar e gráfico es importante notar que 125 MiB estaban antes de la ejecución de PySpark, por lo tanto es la carga en memoria de las librerías solamente. Pero necesitamos saber cuál es la memoria que usa el proceso. Acá no estamos usando clusters, así que pdemos verlo directo del proceso en el sistema operativo"
   ]
  },
  {
   "cell_type": "code",
   "execution_count": 13,
   "metadata": {},
   "outputs": [
    {
     "name": "stderr",
     "output_type": "stream",
     "text": [
      "your 131072x1 screen size is bogus. expect trouble\n"
     ]
    },
    {
     "name": "stdout",
     "output_type": "stream",
     "text": [
      "top - 20:34:11 up 59 min,  1 user,  load average: 0.60, 0.51, 0.38\n",
      "Tasks:   1 total,   0 running,   1 sleeping,   0 stopped,   0 zombie\n",
      "%Cpu(s):  4.8 us,  3.6 sy,  0.0 ni, 89.8 id,  0.0 wa,  0.0 hi,  1.8 si,  0.0 st \n",
      "MiB Mem :  31722.2 total,  18862.5 free,   8795.4 used,   4467.1 buff/cache     \n",
      "MiB Swap:   8192.0 total,   8192.0 free,      0.0 used.  22926.8 avail Mem \n",
      "\n",
      "    PID USER      PR  NI    VIRT    RES    SHR S  %CPU  %MEM     TIME+ COMMAND\n",
      "  45959 ihuerta   20   0   10.8g   1.0g  25660 S   0.0   3.2   1:00.84 java\n",
      "\n"
     ]
    }
   ],
   "source": [
    "import subprocess\n",
    "\n",
    "cmd = \"top -b -n 1 -p $(ps aux | grep spark | grep LATAM-DE | awk '{print $2}' | head -n 1)\"\n",
    "output = subprocess.check_output(cmd, shell=True, text=True)\n",
    "print(output)"
   ]
  },
  {
   "cell_type": "markdown",
   "metadata": {},
   "source": [
    "Vamos a asumir que la memoria se mantiene similar, aunque para ser más exhaustivos podríamos: \n",
    "- Usar el subproceso que usamos antes y un IOString buffer para conectar al File Descriptor y obtener la data del %MEM\n",
    "- Usar SparkUI para revisar cuánto usa (opción para la nube)"
   ]
  },
  {
   "cell_type": "code",
   "execution_count": 14,
   "metadata": {},
   "outputs": [],
   "source": [
    "def plot_mem_corrected(q, ax):\n",
    "    df1 = spark.createDataFrame(\n",
    "        mem_usage[f\"q{q}_memory\"], [\"timestamp\", \"physical\", \"heap\"]\n",
    "    )\n",
    "    df2 = spark.createDataFrame(\n",
    "        mem_usage[f\"q{q}_time\"], [\"timestamp\", \"physical\", \"heap\"]\n",
    "    )\n",
    "\n",
    "    # Suppose df1 is a Spark DataFrame with columns: \"timestamp\", \"physical\", \"heap\"\n",
    "    data1 = df1.select(\"timestamp\", \"physical\", \"heap\").collect()\n",
    "    data2 = df2.select(\"timestamp\", \"physical\", \"heap\").collect()\n",
    "\n",
    "    # Extract columns as Python lists\n",
    "    timestamps1 = [row[\"timestamp\"] - data1[0][\"timestamp\"] for row in data1]\n",
    "    physical1 = [(row[\"physical\"]) / 1024 / 1024 for row in data1]\n",
    "\n",
    "    timestamps2 = [row[\"timestamp\"] - data2[0][\"timestamp\"] for row in data2]\n",
    "    physical2 = [(row[\"physical\"] / 1024 / 1024) + (3.2 / 100 * 31722) for row in data2]\n",
    "\n",
    "    ax.plot(timestamps1, physical1, label=\"Phy Mem (Mem Opt)\", color=\"blue\")\n",
    "    ax.plot(timestamps2, physical2, label=\"Phy Mem (Time Opt)\", color=\"green\")\n",
    "    ax.set_title(f\"Memory Usage Over Time for Q{q}\")\n",
    "    ax.set_xlabel(\"Timestamp [ms]\")\n",
    "    ax.set_ylabel(\"Memory Usage (MiB)\")\n",
    "    ax.grid()\n",
    "    ax.legend()"
   ]
  },
  {
   "cell_type": "code",
   "execution_count": 15,
   "metadata": {},
   "outputs": [
    {
     "data": {
      "image/png": "[encoded data removed]",
      "text/plain": [
       "<Figure size 1500x500 with 3 Axes>"
      ]
     },
     "metadata": {},
     "output_type": "display_data"
    }
   ],
   "source": [
    "import matplotlib.pyplot as plt\n",
    "\n",
    "fig, axs = plt.subplots(1, 3, figsize=(15, 5), sharey=True)\n",
    "plot_mem_corrected(1, axs[0])\n",
    "plot_mem_corrected(2, axs[1])\n",
    "plot_mem_corrected(3, axs[2])"
   ]
  },
  {
   "cell_type": "code",
   "execution_count": null,
   "metadata": {},
   "outputs": [],
   "source": [
    "get_max_memory = lambda x: max([m[1] / 1024 / 1024 for m in mem_usage[x]])\n",
    "get_min_memory = lambda x: min([m[1] / 1024 / 1024 for m in mem_usage[x]])\n",
    "get_mem_usage = lambda x, y: (\n",
    "    get_max_memory(x) - y if y is not None else get_max_memory(x) - get_min_memory(x)\n",
    ")\n",
    "\n",
    "spark_mem = 3.2 / 100 * 31722\n",
    "\n",
    "mem_df = spark.createDataFrame(\n",
    "    [\n",
    "        (\n",
    "            \"Init\",\n",
    "            None,\n",
    "            get_mem_usage(\"init\", 0) + spark_mem,\n",
    "            get_mem_usage(\"init\", None),\n",
    "        ),\n",
    "        (\n",
    "            \"Q1\",\n",
    "            \"Memoria\",\n",
    "            get_mem_usage(\"q1_memory\", 0),\n",
    "            get_mem_usage(\"q1_memory\", None),\n",
    "        ),\n",
    "        (\n",
    "            \"Q1\",\n",
    "            \"Tiempo\",\n",
    "            get_mem_usage(\"q1_time\", 0) + spark_mem,\n",
    "            get_mem_usage(\"q1_time\", None),\n",
    "        ),\n",
    "        (\n",
    "            \"Q2\",\n",
    "            \"Memoria\",\n",
    "            get_mem_usage(\"q2_memory\", 0),\n",
    "            get_mem_usage(\"q2_memory\", None),\n",
    "        ),\n",
    "        (\n",
    "            \"Q2\",\n",
    "            \"Tiempo\",\n",
    "            get_mem_usage(\"q2_time\", 0) + spark_mem,\n",
    "            get_mem_usage(\"q2_time\", None),\n",
    "        ),\n",
    "        (\n",
    "            \"Q3\",\n",
    "            \"Memoria\",\n",
    "            get_mem_usage(\"q3_memory\", 0),\n",
    "            get_mem_usage(\"q3_memory\", None),\n",
    "        ),\n",
    "        (\n",
    "            \"Q3\",\n",
    "            \"Tiempo\",\n",
    "            get_mem_usage(\"q3_time\", 0) + spark_mem,\n",
    "            get_mem_usage(\"q3_time\", None),\n",
    "        ),\n",
    "    ],\n",
    "    [\n",
    "        \"Etapa\",\n",
    "        \"Optimización\",\n",
    "        \"Memoria usada [MiB] (Python + PySpark)\",\n",
    "        \"Memoria Incremental [MiB] (sólo Python)\",\n",
    "    ],\n",
    ")"
   ]
  },
  {
   "cell_type": "code",
   "execution_count": 17,
   "metadata": {},
   "outputs": [
    {
     "data": {
      "application/vnd.microsoft.datawrangler.viewer.v0+json": {
       "columns": [
        {
         "name": "index",
         "rawType": "int64",
         "type": "integer"
        },
        {
         "name": "Etapa",
         "rawType": "object",
         "type": "string"
        },
        {
         "name": "Optimización",
         "rawType": "object",
         "type": "unknown"
        },
        {
         "name": "Memoria usada [MiB] (Python + PySpark)",
         "rawType": "float64",
         "type": "float"
        },
        {
         "name": "Memoria Incremental [MiB] (sólo Python)",
         "rawType": "float64",
         "type": "float"
        }
       ],
       "ref": "a9b7deb9-6a01-436f-8c4d-932207c2aa80",
       "rows": [
        [
         "0",
         "Init",
         null,
         "1136.70165625",
         "2.25"
        ],
        [
         "1",
         "Q1",
         "Memoria",
         "136.32421875",
         "13.3515625"
        ],
        [
         "2",
         "Q1",
         "Tiempo",
         "1147.1274375",
         "0.0"
        ],
        [
         "3",
         "Q2",
         "Memoria",
         "134.86328125",
         "1.125"
        ],
        [
         "4",
         "Q2",
         "Tiempo",
         "1148.963375",
         "0.0"
        ],
        [
         "5",
         "Q3",
         "Memoria",
         "135.5390625",
         "1.6796875"
        ],
        [
         "6",
         "Q3",
         "Tiempo",
         "1149.6430625",
         "0.0"
        ]
       ],
       "shape": {
        "columns": 4,
        "rows": 7
       }
      },
      "text/html": [
       "<div>\n",
       "<style scoped>\n",
       "    .dataframe tbody tr th:only-of-type {\n",
       "        vertical-align: middle;\n",
       "    }\n",
       "\n",
       "    .dataframe tbody tr th {\n",
       "        vertical-align: top;\n",
       "    }\n",
       "\n",
       "    .dataframe thead th {\n",
       "        text-align: right;\n",
       "    }\n",
       "</style>\n",
       "<table border=\"1\" class=\"dataframe\">\n",
       "  <thead>\n",
       "    <tr style=\"text-align: right;\">\n",
       "      <th></th>\n",
       "      <th>Etapa</th>\n",
       "      <th>Optimización</th>\n",
       "      <th>Memoria usada [MiB] (Python + PySpark)</th>\n",
       "      <th>Memoria Incremental [MiB] (sólo Python)</th>\n",
       "    </tr>\n",
       "  </thead>\n",
       "  <tbody>\n",
       "    <tr>\n",
       "      <th>0</th>\n",
       "      <td>Init</td>\n",
       "      <td>None</td>\n",
       "      <td>1136.701656</td>\n",
       "      <td>2.250000</td>\n",
       "    </tr>\n",
       "    <tr>\n",
       "      <th>1</th>\n",
       "      <td>Q1</td>\n",
       "      <td>Memoria</td>\n",
       "      <td>136.324219</td>\n",
       "      <td>13.351562</td>\n",
       "    </tr>\n",
       "    <tr>\n",
       "      <th>2</th>\n",
       "      <td>Q1</td>\n",
       "      <td>Tiempo</td>\n",
       "      <td>1147.127438</td>\n",
       "      <td>0.000000</td>\n",
       "    </tr>\n",
       "    <tr>\n",
       "      <th>3</th>\n",
       "      <td>Q2</td>\n",
       "      <td>Memoria</td>\n",
       "      <td>134.863281</td>\n",
       "      <td>1.125000</td>\n",
       "    </tr>\n",
       "    <tr>\n",
       "      <th>4</th>\n",
       "      <td>Q2</td>\n",
       "      <td>Tiempo</td>\n",
       "      <td>1148.963375</td>\n",
       "      <td>0.000000</td>\n",
       "    </tr>\n",
       "    <tr>\n",
       "      <th>5</th>\n",
       "      <td>Q3</td>\n",
       "      <td>Memoria</td>\n",
       "      <td>135.539062</td>\n",
       "      <td>1.679688</td>\n",
       "    </tr>\n",
       "    <tr>\n",
       "      <th>6</th>\n",
       "      <td>Q3</td>\n",
       "      <td>Tiempo</td>\n",
       "      <td>1149.643063</td>\n",
       "      <td>0.000000</td>\n",
       "    </tr>\n",
       "  </tbody>\n",
       "</table>\n",
       "</div>"
      ],
      "text/plain": [
       "  Etapa Optimización  Memoria usada [MiB] (Python + PySpark)  \\\n",
       "0  Init         None                             1136.701656   \n",
       "1    Q1      Memoria                              136.324219   \n",
       "2    Q1       Tiempo                             1147.127438   \n",
       "3    Q2      Memoria                              134.863281   \n",
       "4    Q2       Tiempo                             1148.963375   \n",
       "5    Q3      Memoria                              135.539062   \n",
       "6    Q3       Tiempo                             1149.643063   \n",
       "\n",
       "   Memoria Incremental [MiB] (sólo Python)  \n",
       "0                                 2.250000  \n",
       "1                                13.351562  \n",
       "2                                 0.000000  \n",
       "3                                 1.125000  \n",
       "4                                 0.000000  \n",
       "5                                 1.679688  \n",
       "6                                 0.000000  "
      ]
     },
     "execution_count": 17,
     "metadata": {},
     "output_type": "execute_result"
    }
   ],
   "source": [
    "mem_df.toPandas()"
   ]
  },
  {
   "cell_type": "markdown",
   "metadata": {
    "application/vnd.databricks.v1+cell": {
     "cellMetadata": {},
     "inputWidgets": {},
     "nuid": "cb13bdc9-9977-42db-9197-0b612d46314f",
     "showTitle": false,
     "title": ""
    }
   },
   "source": [
    "Se podría mejorar este análisis viendo distintos tipos de memoria y revisando por parte cada uno de los pasos realizados. Sin embargo se puede notar que en el caso de la solución para optimizar la memoria, esta crece cada vez más, eso es por el uso de una diccionario (como Hashmap) en el algorítmo.\n",
    "\n",
    "Otro elemento importante es que se consideró maginal es que en el caso ideal cada uno debería correr en una instancia separada y no dentro del mismo scope de variables.\n",
    "\n",
    "Los caché de PySpark influyen mucho en la medición de memoria"
   ]
  },
  {
   "cell_type": "markdown",
   "metadata": {
    "application/vnd.databricks.v1+cell": {
     "cellMetadata": {},
     "inputWidgets": {},
     "nuid": "d0fa5650-3b55-4080-8af6-1310a8a85042",
     "showTitle": false,
     "title": ""
    }
   },
   "source": [
    "#### Análisis de tiempo"
   ]
  },
  {
   "cell_type": "code",
   "execution_count": null,
   "metadata": {},
   "outputs": [],
   "source": [
    "import re\n",
    "\n",
    "pattern = r\".*in (\\d+\\.\\d+) seconds\"\n",
    "\n",
    "get_time = lambda x: re.match(pattern, x).groups()[0]\n",
    "get_arr = lambda x: x.split(\"\\n\")[:15]\n",
    "print_time = lambda x: print(x.split(\"\\n\")[:15])\n",
    "\n",
    "\n",
    "# Helper to get the first line with timing info\n",
    "def get_first_time_line(arr):\n",
    "    for line in arr:\n",
    "        if re.match(pattern, line):\n",
    "            return line\n",
    "    return \"\"\n",
    "\n",
    "\n",
    "time_dataframe = spark.createDataFrame(\n",
    "    [[\"Init\", \"\", get_time(get_first_time_line(get_arr(time_usage[\"init\"])))]],\n",
    "    [\"Instancia\", \"Optimización\", \"Tiempo[s]\"],\n",
    ")\n",
    "\n",
    "add_row = lambda df, q, opt, time: df.union(\n",
    "    spark.createDataFrame(\n",
    "        [(f\"Q{q}\", opt, get_time(get_first_time_line(get_arr(time))))],\n",
    "        [\"Instancia\", \"Optimización\", \"Tiempo[s]\"],\n",
    "    )\n",
    ")\n",
    "\n",
    "time_dataframe = add_row(time_dataframe, 1, \"Memoria\", time_usage[\"q1_memory\"])\n",
    "time_dataframe = add_row(time_dataframe, 1, \"Tiempo\", time_usage[\"q1_time\"])\n",
    "time_dataframe = add_row(time_dataframe, 2, \"Memoria\", time_usage[\"q2_memory\"])\n",
    "time_dataframe = add_row(time_dataframe, 2, \"Tiempo\", time_usage[\"q2_time\"])\n",
    "time_dataframe = add_row(time_dataframe, 3, \"Memoria\", time_usage[\"q3_memory\"])\n",
    "time_dataframe = add_row(time_dataframe, 3, \"Tiempo\", time_usage[\"q3_time\"])"
   ]
  },
  {
   "cell_type": "code",
   "execution_count": 19,
   "metadata": {},
   "outputs": [
    {
     "name": "stderr",
     "output_type": "stream",
     "text": [
      "                                                                                \r"
     ]
    },
    {
     "data": {
      "application/vnd.microsoft.datawrangler.viewer.v0+json": {
       "columns": [
        {
         "name": "index",
         "rawType": "int64",
         "type": "integer"
        },
        {
         "name": "Instancia",
         "rawType": "object",
         "type": "string"
        },
        {
         "name": "Optimización",
         "rawType": "object",
         "type": "string"
        },
        {
         "name": "Tiempo[s]",
         "rawType": "object",
         "type": "string"
        }
       ],
       "ref": "8e687ba5-016a-48df-904c-7bb6fabd0949",
       "rows": [
        [
         "0",
         "Init",
         "",
         "9.901"
        ],
        [
         "1",
         "Q1",
         "Memoria",
         "4.030"
        ],
        [
         "2",
         "Q1",
         "Tiempo",
         "1.062"
        ],
        [
         "3",
         "Q2",
         "Memoria",
         "7.655"
        ],
        [
         "4",
         "Q2",
         "Tiempo",
         "2.122"
        ],
        [
         "5",
         "Q3",
         "Memoria",
         "6.224"
        ],
        [
         "6",
         "Q3",
         "Tiempo",
         "1.466"
        ]
       ],
       "shape": {
        "columns": 3,
        "rows": 7
       }
      },
      "text/html": [
       "<div>\n",
       "<style scoped>\n",
       "    .dataframe tbody tr th:only-of-type {\n",
       "        vertical-align: middle;\n",
       "    }\n",
       "\n",
       "    .dataframe tbody tr th {\n",
       "        vertical-align: top;\n",
       "    }\n",
       "\n",
       "    .dataframe thead th {\n",
       "        text-align: right;\n",
       "    }\n",
       "</style>\n",
       "<table border=\"1\" class=\"dataframe\">\n",
       "  <thead>\n",
       "    <tr style=\"text-align: right;\">\n",
       "      <th></th>\n",
       "      <th>Instancia</th>\n",
       "      <th>Optimización</th>\n",
       "      <th>Tiempo[s]</th>\n",
       "    </tr>\n",
       "  </thead>\n",
       "  <tbody>\n",
       "    <tr>\n",
       "      <th>0</th>\n",
       "      <td>Init</td>\n",
       "      <td></td>\n",
       "      <td>9.901</td>\n",
       "    </tr>\n",
       "    <tr>\n",
       "      <th>1</th>\n",
       "      <td>Q1</td>\n",
       "      <td>Memoria</td>\n",
       "      <td>4.030</td>\n",
       "    </tr>\n",
       "    <tr>\n",
       "      <th>2</th>\n",
       "      <td>Q1</td>\n",
       "      <td>Tiempo</td>\n",
       "      <td>1.062</td>\n",
       "    </tr>\n",
       "    <tr>\n",
       "      <th>3</th>\n",
       "      <td>Q2</td>\n",
       "      <td>Memoria</td>\n",
       "      <td>7.655</td>\n",
       "    </tr>\n",
       "    <tr>\n",
       "      <th>4</th>\n",
       "      <td>Q2</td>\n",
       "      <td>Tiempo</td>\n",
       "      <td>2.122</td>\n",
       "    </tr>\n",
       "    <tr>\n",
       "      <th>5</th>\n",
       "      <td>Q3</td>\n",
       "      <td>Memoria</td>\n",
       "      <td>6.224</td>\n",
       "    </tr>\n",
       "    <tr>\n",
       "      <th>6</th>\n",
       "      <td>Q3</td>\n",
       "      <td>Tiempo</td>\n",
       "      <td>1.466</td>\n",
       "    </tr>\n",
       "  </tbody>\n",
       "</table>\n",
       "</div>"
      ],
      "text/plain": [
       "  Instancia Optimización Tiempo[s]\n",
       "0      Init                  9.901\n",
       "1        Q1      Memoria     4.030\n",
       "2        Q1       Tiempo     1.062\n",
       "3        Q2      Memoria     7.655\n",
       "4        Q2       Tiempo     2.122\n",
       "5        Q3      Memoria     6.224\n",
       "6        Q3       Tiempo     1.466"
      ]
     },
     "execution_count": 19,
     "metadata": {},
     "output_type": "execute_result"
    }
   ],
   "source": [
    "time_dataframe.toPandas()"
   ]
  },
  {
   "cell_type": "markdown",
   "metadata": {
    "application/vnd.databricks.v1+cell": {
     "cellMetadata": {},
     "inputWidgets": {},
     "nuid": "1a56b4a3-4cd9-456d-91e9-30eb8528b426",
     "showTitle": false,
     "title": ""
    }
   },
   "source": [
    "Si bien la disminución se ve sustancial, mayormente es por la precarga del DataFrame en Spark. Aún así las de tiempo son soluciones escalables que pueden mejorar con la adición de más workers. El tiempo de precarga es de 10 segundos para el caso local.\n"
   ]
  },
  {
   "cell_type": "markdown",
   "metadata": {},
   "source": [
    "#### Temas no revisados que si consideraría en un caso real\n",
    "\n",
    "No se realizó análisis exhaustivo de los datos, ya que la fuente de Twitter es relativamente confiable. Además que en el manejo de errores no tiró problemas.\n",
    "\n",
    "En un caso real se debería inspeccionar los datos, ver que los formatos sean los correspondientes (como con los esquemas de Spark), intentar repararlos cuando se pueda o eliminar los que puedan sumar complejidad al procesamiento"
   ]
  },
  {
   "cell_type": "markdown",
   "metadata": {},
   "source": []
  }
 ],
 "metadata": {
  "application/vnd.databricks.v1+notebook": {
   "dashboards": [],
   "environmentMetadata": null,
   "language": "python",
   "notebookMetadata": {
    "mostRecentlyExecutedCommandWithImplicitDF": {
     "commandId": 2167256912143087,
     "dataframes": [
      "_sqldf"
     ]
    },
    "pythonIndentUnit": 4
   },
   "notebookName": "challenge",
   "widgets": {}
  },
  "kernelspec": {
   "display_name": "latam_challenge",
   "language": "python",
   "name": "python3"
  },
  "language_info": {
   "codemirror_mode": {
    "name": "ipython",
    "version": 3
   },
   "file_extension": ".py",
   "mimetype": "text/x-python",
   "name": "python",
   "nbconvert_exporter": "python",
   "pygments_lexer": "ipython3",
   "version": "3.12.4"
  },
  "orig_nbformat": 4
 },
 "nbformat": 4,
 "nbformat_minor": 0
}
